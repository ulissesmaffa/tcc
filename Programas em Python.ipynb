{
  "nbformat": 4,
  "nbformat_minor": 0,
  "metadata": {
    "colab": {
      "provenance": [],
      "authorship_tag": "ABX9TyPMuyh1dSPFAbahcnNJwQVO",
      "include_colab_link": true
    },
    "kernelspec": {
      "name": "python3",
      "display_name": "Python 3"
    },
    "language_info": {
      "name": "python"
    }
  },
  "cells": [
    {
      "cell_type": "markdown",
      "metadata": {
        "id": "view-in-github",
        "colab_type": "text"
      },
      "source": [
        "<a href=\"https://colab.research.google.com/github/ulissesmaffa/tcc/blob/main/Programas%20em%20Python.ipynb\" target=\"_parent\"><img src=\"https://colab.research.google.com/assets/colab-badge.svg\" alt=\"Open In Colab\"/></a>"
      ]
    },
    {
      "cell_type": "markdown",
      "source": [
        "Trabalho de Conclusão de Curso 2023/2\n",
        "\n",
        "* Universidade Estadual do Rio Grande do Sul\n",
        "* Unidade em Guaíba\n",
        "* Curso de Engenharia de Computação\n",
        "* Aluno:Ulisses Maffazioli\n",
        "\n",
        "**Arquitetura de condicionador digital para sensores de natureza resistiva**\n",
        "\n",
        "Acesso github de todos os códigos utilizados no TCC: https://github.com/ulissesmaffa/tcc.git"
      ],
      "metadata": {
        "id": "WKGlLIsxoXt4"
      }
    },
    {
      "cell_type": "markdown",
      "source": [
        "# Configuração do Ambiente"
      ],
      "metadata": {
        "id": "JBFa1fhHpgTu"
      }
    },
    {
      "cell_type": "code",
      "execution_count": null,
      "metadata": {
        "id": "1WzzJfl4oTjK"
      },
      "outputs": [],
      "source": [
        "!pip3 install control"
      ]
    },
    {
      "cell_type": "code",
      "source": [],
      "metadata": {
        "id": "l06hCrMtp6uN"
      },
      "execution_count": null,
      "outputs": []
    }
  ]
}